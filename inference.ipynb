{
 "cells": [
  {
   "cell_type": "code",
   "execution_count": 1,
   "id": "54bfbc29",
   "metadata": {},
   "outputs": [
    {
     "name": "stderr",
     "output_type": "stream",
     "text": [
      "WARNING:absl:Compiled the loaded model, but the compiled metrics have yet to be built. `model.compile_metrics` will be empty until you train or evaluate the model.\n"
     ]
    }
   ],
   "source": [
    "import tensorflow as tf\n",
    "from preprocess import process_dir_images\n",
    "from predict import predict_on_dataset"
   ]
  },
  {
   "cell_type": "code",
   "execution_count": 2,
   "id": "35f1c1e7",
   "metadata": {},
   "outputs": [
    {
     "name": "stdout",
     "output_type": "stream",
     "text": [
      "Found 144 files belonging to 2 classes.\n"
     ]
    }
   ],
   "source": [
    "# load testing dataset from a local directory\n",
    "# give the path with two sub folders: 'face' and 'no_face'\n",
    "test_data = tf.keras.utils.image_dataset_from_directory('E:/AI-ML-DL/python projects/face detection/Data/Testing', image_size=(128, 128), shuffle=False, batch_size=None)\n",
    "\n",
    "# process the images in the test_data\n",
    "test_images = test_data.map(process_dir_images, num_parallel_calls=tf.data.AUTOTUNE).batch(32).prefetch(tf.data.AUTOTUNE)"
   ]
  },
  {
   "cell_type": "code",
   "execution_count": null,
   "id": "548fa798",
   "metadata": {},
   "outputs": [],
   "source": [
    "num_batches = 1\n",
    "predict_on_dataset(test_images, num_batches)"
   ]
  }
 ],
 "metadata": {
  "kernelspec": {
   "display_name": "tfenv",
   "language": "python",
   "name": "tfenv"
  },
  "language_info": {
   "codemirror_mode": {
    "name": "ipython",
    "version": 3
   },
   "file_extension": ".py",
   "mimetype": "text/x-python",
   "name": "python",
   "nbconvert_exporter": "python",
   "pygments_lexer": "ipython3",
   "version": "3.10.7"
  }
 },
 "nbformat": 4,
 "nbformat_minor": 5
}
